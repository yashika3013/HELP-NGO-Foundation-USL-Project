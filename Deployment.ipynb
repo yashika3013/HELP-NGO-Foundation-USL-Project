{
 "cells": [
  {
   "cell_type": "code",
   "execution_count": 1,
   "id": "33aab4b4-448b-4108-87ae-9358d472c10e",
   "metadata": {},
   "outputs": [
    {
     "name": "stdout",
     "output_type": "stream",
     "text": [
      "Writing app.py\n"
     ]
    }
   ],
   "source": [
    "%%writefile app.py\n",
    "\n",
    "import streamlit as st\n",
    "import numpy as np\n",
    "import pandas as pd\n",
    "import pickle\n",
    "\n",
    "# Load the instances that were created\n",
    "\n",
    "with open('model.pkl','rb') as file:\n",
    "    model = pickle.load(file)\n",
    "\n",
    "with open('pca.pkl','rb') as file:\n",
    "    pca = pickle.load(file)\n",
    "\n",
    "with open('scaler.pkl','rb') as file:\n",
    "    scaler = pickle.load(file)\n",
    "\n",
    "def prediction(input_data):\n",
    "\n",
    "    scaled_data = scaler.transform(input_data)\n",
    "    pca_data = pca.transform(scaled_data)\n",
    "\n",
    "    pred = model.predict(pca_data)[0]\n",
    "\n",
    "    if pred==0:\n",
    "        return 'UnderDeveloped'\n",
    "    elif pred==1:\n",
    "        return 'Developed'\n",
    "    else:\n",
    "        return 'Developing'\n",
    "\n",
    "def main():\n",
    "\n",
    "    st.title('HELP International Foundation')\n",
    "    st.subheader('This application will give the status of the country based on socio-economic factors')\n",
    "    ch_mort = st.text_input('Enter the child mortality rate:')\n",
    "    exp = st.text_input('Enter Exports (% GDP):')\n",
    "    imp = st.text_input('Enter Imports (% GDP):')\n",
    "    hel = st.text_input('Enter expenditure on health (% GDP):')\n",
    "    inc = st.text_input('Enter average income:')\n",
    "    inf = st.text_input('Enter Inflation:')\n",
    "    life_exp = st.text_input('Enter life expectancy:')\n",
    "    fer = st.text_input('Enter fertility rate:')\n",
    "    gdp = st.text_input('Enter GDP per population:')\n",
    "\n",
    "    input_list = [[ch_mort,exp,hel,imp,inc,inf,life_exp,fer,gdp]]\n",
    "\n",
    "    if st.button('Predict'):\n",
    "        response = prediction(input_list)\n",
    "        st.success(response)\n",
    "\n",
    "if __name__ == '__main__':\n",
    "    main()"
   ]
  },
  {
   "cell_type": "code",
   "execution_count": null,
   "id": "c5dc569e-a98d-4426-baa3-1b709fdc9d55",
   "metadata": {},
   "outputs": [],
   "source": []
  }
 ],
 "metadata": {
  "kernelspec": {
   "display_name": "Python 3 (ipykernel)",
   "language": "python",
   "name": "python3"
  },
  "language_info": {
   "codemirror_mode": {
    "name": "ipython",
    "version": 3
   },
   "file_extension": ".py",
   "mimetype": "text/x-python",
   "name": "python",
   "nbconvert_exporter": "python",
   "pygments_lexer": "ipython3",
   "version": "3.11.4"
  }
 },
 "nbformat": 4,
 "nbformat_minor": 5
}
